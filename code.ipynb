{
  "cells": [
    {
      "cell_type": "code",
      "execution_count": 3,
      "metadata": {
        "id": "HruTK6nIlr9c"
      },
      "outputs": [],
      "source": [
        "import os\n",
        "import pandas as pd\n",
        "import matplotlib.pyplot as plt\n",
        "import matplotlib.dates as mdates"
      ]
    },
    {
      "cell_type": "code",
      "execution_count": 5,
      "metadata": {},
      "outputs": [
        {
          "name": "stdout",
          "output_type": "stream",
          "text": [
            "<class 'pandas.core.frame.DataFrame'>\n",
            "RangeIndex: 21107 entries, 0 to 21106\n",
            "Data columns (total 32 columns):\n",
            " #   Column                 Non-Null Count  Dtype  \n",
            "---  ------                 --------------  -----  \n",
            " 0   Time Stamp             21107 non-null  object \n",
            " 1   V R-S                  21107 non-null  float64\n",
            " 2   V S-T                  21107 non-null  float64\n",
            " 3   V R-T                  21107 non-null  float64\n",
            " 4   V R-N                  21107 non-null  float64\n",
            " 5   V S-N                  21107 non-null  float64\n",
            " 6   V T-N                  21107 non-null  float64\n",
            " 7   IA                     21107 non-null  float64\n",
            " 8   IB                     21107 non-null  float64\n",
            " 9   IC                     21107 non-null  float64\n",
            " 10  IN                     21107 non-null  float64\n",
            " 11  P Total                21107 non-null  float64\n",
            " 12  Q Total                21107 non-null  float64\n",
            " 13  S Total                21107 non-null  float64\n",
            " 14  Cos Phi                21107 non-null  float64\n",
            " 15  THD I                  21107 non-null  float64\n",
            " 16  THD V                  21107 non-null  float64\n",
            " 17  H1                     21107 non-null  object \n",
            " 18  H3                     21107 non-null  object \n",
            " 19  H5                     21107 non-null  object \n",
            " 20  H7                     21107 non-null  object \n",
            " 21  H9                     21107 non-null  object \n",
            " 22  H11                    21107 non-null  object \n",
            " 23  Frekuensi              21107 non-null  float64\n",
            " 24  Max Current            21107 non-null  float64\n",
            " 25  Max Current Unbalance  21107 non-null  float64\n",
            " 26  Max Voltage L-L        21107 non-null  float64\n",
            " 27  Max Voltage Unbalance  21107 non-null  float64\n",
            " 28  Max THD I              21107 non-null  float64\n",
            " 29  Active Energy          21107 non-null  int64  \n",
            " 30  Unnamed: 30            0 non-null      float64\n",
            " 31  Unnamed: 31            0 non-null      float64\n",
            "dtypes: float64(24), int64(1), object(7)\n",
            "memory usage: 5.2+ MB\n"
          ]
        }
      ],
      "source": [
        "df = pd.read_csv('/home/arsy/Downloads/UPT-ME/Unit 7/20221229_PM5330.csv')\n",
        "df.info()"
      ]
    },
    {
      "cell_type": "code",
      "execution_count": 6,
      "metadata": {},
      "outputs": [
        {
          "name": "stdout",
          "output_type": "stream",
          "text": [
            "File 20240131_PM5330.csv is empty or all rows were dropped. Skipping this file.\n"
          ]
        }
      ],
      "source": [
        "# Function\n",
        "def extract_date_from_filename(filename):\n",
        "    date_str = filename.split('_')[0]\n",
        "    return pd.to_datetime(date_str, format='%Y%m%d', errors='coerce')\n",
        "\n",
        "def generate_graphs_and_csv():\n",
        "    folder_name = input(\"Masukkan nama folder: \")\n",
        "    output_folder_name = f\"{folder_name}_Output\"\n",
        "    os.makedirs(output_folder_name, exist_ok=True)  # Membuat folder output\n",
        "    \n",
        "    files = [f for f in os.listdir(folder_name) if f.endswith('.csv')]\n",
        "    \n",
        "    all_data = {}\n",
        "    \n",
        "    for file in files:\n",
        "        df = pd.read_csv(os.path.join(folder_name, file), parse_dates=['Time Stamp'], index_col='Time Stamp', dtype={'THD V': 'str'})  # Ganti 'Column_Name' dengan nama kolom yang bermasalah\n",
        "        numeric_cols = ['IA', 'IB', 'IC']\n",
        "        df = df[numeric_cols]\n",
        "        df = df.dropna(axis=1, how='all')\n",
        "        \n",
        "        # Skip processing if DataFrame is empty\n",
        "        if df.empty:\n",
        "            print(f\"File {file} is empty or all rows were dropped. Skipping this file.\")\n",
        "            continue\n",
        "        \n",
        "        df.index = pd.to_datetime(df.index)  # Ensure index is datetime\n",
        "        df = df.sort_index()  # Sort the DataFrame by index\n",
        "        \n",
        "        date_from_filename = extract_date_from_filename(file)\n",
        "        if pd.isnull(date_from_filename):\n",
        "            print(f\"Unable to extract date from the file name: {file}. Skipping this file.\")\n",
        "            continue\n",
        "        \n",
        "        month = date_from_filename.strftime('%Y-%m')\n",
        "        if month not in all_data:\n",
        "            all_data[month] = [df]\n",
        "        else:\n",
        "            all_data[month].append(df)\n",
        "\n",
        "    for month, data_list in all_data.items():\n",
        "        # Concatenate all DataFrames in the list\n",
        "        combined_data = pd.concat(data_list)\n",
        "        combined_data = combined_data.resample('D').agg(['max', 'min'])  # Resample the data to daily frequency\n",
        "        \n",
        "        # Sort index by date\n",
        "        combined_data.sort_index(inplace=True)\n",
        "        \n",
        "        fig, axs = plt.subplots(3, figsize=(16, 15))  # Set the height of the figure to 15 inches\n",
        "        for i, col in enumerate(['IA', 'IB', 'IC']):\n",
        "            combined_data[col]['max'].plot(ax=axs[i], color='tab:blue', label='Max')\n",
        "            combined_data[col]['min'].plot(ax=axs[i], color='tab:red', label='Min')\n",
        "            axs[i].set_title(f'Max and Min values of {col} for {month}')\n",
        "            axs[i].set_xlabel('')\n",
        "            axs[i].set_ylabel(f'{col} Value')\n",
        "            axs[i].grid(True)\n",
        "            axs[i].legend()\n",
        "            axs[i].xaxis.set_major_locator(mdates.DayLocator())  # Set penanda untuk setiap hari\n",
        "            axs[i].xaxis.set_major_formatter(mdates.DateFormatter('%Y-%m-%d'))  # Format tanggal\n",
        "            axs[i].tick_params(axis='x', rotation=45)  # Putar label sumbu x untuk keterbacaan yang lebih baik\n",
        "            axs[i].yaxis.set_major_locator(plt.MultipleLocator(25))  # Set penanda utama sumbu y ke kelipatan 25\n",
        "        \n",
        "        plt.tight_layout(pad=3.0)  # Tambahkan jarak antara subplot\n",
        "        plt.savefig(os.path.join(output_folder_name, f'{month}_graph.png'), dpi=300)  # Simpan gambar di folder output\n",
        "        plt.close()\n",
        "\n",
        "        # Simpan data ke file CSV\n",
        "        combined_data.to_csv(os.path.join(output_folder_name, f'{month}_max_min.csv'))\n",
        "\n",
        "generate_graphs_and_csv()"
      ]
    }
  ],
  "metadata": {
    "colab": {
      "provenance": []
    },
    "kernelspec": {
      "display_name": "Python 3",
      "name": "python3"
    },
    "language_info": {
      "codemirror_mode": {
        "name": "ipython",
        "version": 3
      },
      "file_extension": ".py",
      "mimetype": "text/x-python",
      "name": "python",
      "nbconvert_exporter": "python",
      "pygments_lexer": "ipython3",
      "version": "3.10.12"
    }
  },
  "nbformat": 4,
  "nbformat_minor": 0
}
