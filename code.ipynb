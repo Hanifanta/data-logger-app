{
  "cells": [
    {
      "cell_type": "code",
      "execution_count": 1,
      "metadata": {
        "id": "HruTK6nIlr9c"
      },
      "outputs": [],
      "source": [
        "import os\n",
        "import pandas as pd\n",
        "import matplotlib.pyplot as plt\n",
        "import matplotlib.dates as mdates"
      ]
    },
    {
      "cell_type": "code",
      "execution_count": 2,
      "metadata": {},
      "outputs": [
        {
          "name": "stdout",
          "output_type": "stream",
          "text": [
            "<class 'pandas.core.frame.DataFrame'>\n",
            "RangeIndex: 4403 entries, 0 to 4402\n",
            "Data columns (total 32 columns):\n",
            " #   Column                 Non-Null Count  Dtype  \n",
            "---  ------                 --------------  -----  \n",
            " 0   Time Stamp             4403 non-null   object \n",
            " 1   V R-S                  4403 non-null   float64\n",
            " 2   V S-T                  4403 non-null   float64\n",
            " 3   V R-T                  4403 non-null   float64\n",
            " 4   V R-N                  4403 non-null   float64\n",
            " 5   V S-N                  4403 non-null   float64\n",
            " 6   V T-N                  4403 non-null   float64\n",
            " 7   IA                     4403 non-null   float64\n",
            " 8   IB                     4403 non-null   float64\n",
            " 9   IC                     4403 non-null   float64\n",
            " 10  IN                     4403 non-null   float64\n",
            " 11  P Total                4403 non-null   float64\n",
            " 12  Q Total                4403 non-null   float64\n",
            " 13  S Total                4403 non-null   float64\n",
            " 14  Cos Phi                4403 non-null   float64\n",
            " 15  THD I                  4403 non-null   float64\n",
            " 16  THD V                  4403 non-null   float64\n",
            " 17  H1                     4403 non-null   object \n",
            " 18  H3                     4403 non-null   object \n",
            " 19  H5                     4403 non-null   object \n",
            " 20  H7                     4403 non-null   object \n",
            " 21  H9                     4403 non-null   object \n",
            " 22  H11                    4403 non-null   object \n",
            " 23  Frekuensi              4403 non-null   float64\n",
            " 24  Max Current            4403 non-null   float64\n",
            " 25  Max Current Unbalance  4403 non-null   float64\n",
            " 26  Max Voltage L-L        4403 non-null   float64\n",
            " 27  Max Voltage Unbalance  4403 non-null   float64\n",
            " 28  Max THD I              4403 non-null   float64\n",
            " 29  Active Energy          4403 non-null   int64  \n",
            " 30  Unnamed: 30            0 non-null      float64\n",
            " 31  Unnamed: 31            0 non-null      float64\n",
            "dtypes: float64(24), int64(1), object(7)\n",
            "memory usage: 1.1+ MB\n"
          ]
        }
      ],
      "source": [
        "df = pd.read_csv('/home/arsy/Downloads/UPT-ME/Server/20220725_PM21xx06.csv')\n",
        "df.info()"
      ]
    },
    {
      "cell_type": "code",
      "execution_count": 3,
      "metadata": {},
      "outputs": [
        {
          "ename": "FileNotFoundError",
          "evalue": "[Errno 2] No such file or directory: ''",
          "output_type": "error",
          "traceback": [
            "\u001b[0;31m---------------------------------------------------------------------------\u001b[0m",
            "\u001b[0;31mFileNotFoundError\u001b[0m                         Traceback (most recent call last)",
            "Cell \u001b[0;32mIn[3], line 69\u001b[0m\n\u001b[1;32m     66\u001b[0m         \u001b[38;5;66;03m# Simpan data ke file CSV\u001b[39;00m\n\u001b[1;32m     67\u001b[0m         combined_data\u001b[38;5;241m.\u001b[39mto_csv(os\u001b[38;5;241m.\u001b[39mpath\u001b[38;5;241m.\u001b[39mjoin(output_folder_name, \u001b[38;5;124mf\u001b[39m\u001b[38;5;124m'\u001b[39m\u001b[38;5;132;01m{\u001b[39;00mmonth\u001b[38;5;132;01m}\u001b[39;00m\u001b[38;5;124m_max_min.csv\u001b[39m\u001b[38;5;124m'\u001b[39m))\n\u001b[0;32m---> 69\u001b[0m \u001b[43mgenerate_graphs_and_csv\u001b[49m\u001b[43m(\u001b[49m\u001b[43m)\u001b[49m\n",
            "Cell \u001b[0;32mIn[3], line 11\u001b[0m, in \u001b[0;36mgenerate_graphs_and_csv\u001b[0;34m()\u001b[0m\n\u001b[1;32m      8\u001b[0m output_folder_name \u001b[38;5;241m=\u001b[39m \u001b[38;5;124mf\u001b[39m\u001b[38;5;124m\"\u001b[39m\u001b[38;5;132;01m{\u001b[39;00mfolder_name\u001b[38;5;132;01m}\u001b[39;00m\u001b[38;5;124m_Output\u001b[39m\u001b[38;5;124m\"\u001b[39m\n\u001b[1;32m      9\u001b[0m os\u001b[38;5;241m.\u001b[39mmakedirs(output_folder_name, exist_ok\u001b[38;5;241m=\u001b[39m\u001b[38;5;28;01mTrue\u001b[39;00m)  \u001b[38;5;66;03m# Membuat folder output\u001b[39;00m\n\u001b[0;32m---> 11\u001b[0m files \u001b[38;5;241m=\u001b[39m [f \u001b[38;5;28;01mfor\u001b[39;00m f \u001b[38;5;129;01min\u001b[39;00m \u001b[43mos\u001b[49m\u001b[38;5;241;43m.\u001b[39;49m\u001b[43mlistdir\u001b[49m\u001b[43m(\u001b[49m\u001b[43mfolder_name\u001b[49m\u001b[43m)\u001b[49m \u001b[38;5;28;01mif\u001b[39;00m f\u001b[38;5;241m.\u001b[39mendswith(\u001b[38;5;124m'\u001b[39m\u001b[38;5;124m.csv\u001b[39m\u001b[38;5;124m'\u001b[39m)]\n\u001b[1;32m     13\u001b[0m all_data \u001b[38;5;241m=\u001b[39m {}\n\u001b[1;32m     15\u001b[0m \u001b[38;5;28;01mfor\u001b[39;00m file \u001b[38;5;129;01min\u001b[39;00m files:\n",
            "\u001b[0;31mFileNotFoundError\u001b[0m: [Errno 2] No such file or directory: ''"
          ]
        }
      ],
      "source": [
        "# Function\n",
        "def extract_date_from_filename(filename):\n",
        "    date_str = filename.split('_')[0]\n",
        "    return pd.to_datetime(date_str, format='%Y%m%d', errors='coerce')\n",
        "\n",
        "def generate_graphs_and_csv():\n",
        "    folder_name = input(\"Masukkan nama folder: \")\n",
        "    output_folder_name = f\"{folder_name}_Output\"\n",
        "    os.makedirs(output_folder_name, exist_ok=True)  # Membuat folder output\n",
        "    \n",
        "    files = [f for f in os.listdir(folder_name) if f.endswith('.csv')]\n",
        "    \n",
        "    all_data = {}\n",
        "    \n",
        "    for file in files:\n",
        "        df = pd.read_csv(os.path.join(folder_name, file), parse_dates=['Time Stamp'], index_col='Time Stamp', dtype={'THD V': 'str'})  # Ganti 'Column_Name' dengan nama kolom yang bermasalah\n",
        "        numeric_cols = ['IA', 'IB', 'IC']\n",
        "        df = df[numeric_cols]\n",
        "        df = df.dropna(axis=1, how='all')\n",
        "        \n",
        "        # Skip processing if DataFrame is empty\n",
        "        if df.empty:\n",
        "            print(f\"File {file} is empty or all rows were dropped. Skipping this file.\")\n",
        "            continue\n",
        "        \n",
        "        df.index = pd.to_datetime(df.index)  # Ensure index is datetime\n",
        "        df = df.sort_index()  # Sort the DataFrame by index\n",
        "        \n",
        "        date_from_filename = extract_date_from_filename(file)\n",
        "        if pd.isnull(date_from_filename):\n",
        "            print(f\"Unable to extract date from the file name: {file}. Skipping this file.\")\n",
        "            continue\n",
        "        \n",
        "        month = date_from_filename.strftime('%Y-%m')\n",
        "        if month not in all_data:\n",
        "            all_data[month] = [df]\n",
        "        else:\n",
        "            all_data[month].append(df)\n",
        "\n",
        "    for month, data_list in all_data.items():\n",
        "        # Concatenate all DataFrames in the list\n",
        "        combined_data = pd.concat(data_list)\n",
        "        combined_data = combined_data.resample('D').agg(['max', 'min'])  # Resample the data to daily frequency\n",
        "        \n",
        "        # Sort index by date\n",
        "        combined_data.sort_index(inplace=True)\n",
        "        \n",
        "        fig, axs = plt.subplots(3, figsize=(16, 15))  # Set the height of the figure to 15 inches\n",
        "        for i, col in enumerate(['IA', 'IB', 'IC']):\n",
        "            combined_data[col]['max'].plot(ax=axs[i], color='tab:blue', label='Max')\n",
        "            combined_data[col]['min'].plot(ax=axs[i], color='tab:red', label='Min')\n",
        "            axs[i].set_title(f'Max and Min values of {col} for {month}')\n",
        "            axs[i].set_xlabel('')\n",
        "            axs[i].set_ylabel(f'{col} Value')\n",
        "            axs[i].grid(True)\n",
        "            axs[i].legend()\n",
        "            axs[i].xaxis.set_major_locator(mdates.DayLocator())  # Set penanda untuk setiap hari\n",
        "            axs[i].xaxis.set_major_formatter(mdates.DateFormatter('%Y-%m-%d'))  # Format tanggal\n",
        "            axs[i].tick_params(axis='x', rotation=45)  # Putar label sumbu x untuk keterbacaan yang lebih baik\n",
        "            axs[i].yaxis.set_major_locator(plt.MultipleLocator(25))  # Set penanda utama sumbu y ke kelipatan 25\n",
        "        \n",
        "        plt.tight_layout(pad=3.0)  # Tambahkan jarak antara subplot\n",
        "        plt.savefig(os.path.join(output_folder_name, f'{month}_graph.png'), dpi=300)  # Simpan gambar di folder output\n",
        "        plt.close()\n",
        "\n",
        "        # Simpan data ke file CSV\n",
        "        combined_data.to_csv(os.path.join(output_folder_name, f'{month}_max_min.csv'))\n",
        "\n",
        "generate_graphs_and_csv()"
      ]
    }
  ],
  "metadata": {
    "colab": {
      "provenance": []
    },
    "kernelspec": {
      "display_name": "Python 3",
      "name": "python3"
    },
    "language_info": {
      "codemirror_mode": {
        "name": "ipython",
        "version": 3
      },
      "file_extension": ".py",
      "mimetype": "text/x-python",
      "name": "python",
      "nbconvert_exporter": "python",
      "pygments_lexer": "ipython3",
      "version": "3.10.12"
    }
  },
  "nbformat": 4,
  "nbformat_minor": 0
}
